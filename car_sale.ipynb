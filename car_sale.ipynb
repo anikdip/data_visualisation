{
 "cells": [
  {
   "cell_type": "code",
   "outputs": [
    {
     "name": "stdout",
     "output_type": "stream",
     "text": [
      "Collecting chart_studio\r\n",
      "  Downloading chart_studio-1.1.0-py3-none-any.whl (64 kB)\r\n",
      "\u001B[2K     \u001B[90m━━━━━━━━━━━━━━━━━━━━━━━━━━━━━━━━━━━━━━━\u001B[0m \u001B[32m64.4/64.4 kB\u001B[0m \u001B[31m745.0 kB/s\u001B[0m eta \u001B[36m0:00:00\u001B[0ma \u001B[36m0:00:01\u001B[0m\r\n",
      "\u001B[?25hRequirement already satisfied: plotly in /Library/Frameworks/Python.framework/Versions/3.11/lib/python3.11/site-packages (from chart_studio) (5.20.0)\r\n",
      "Requirement already satisfied: requests in /Library/Frameworks/Python.framework/Versions/3.11/lib/python3.11/site-packages (from chart_studio) (2.31.0)\r\n",
      "Collecting retrying>=1.3.3\r\n",
      "  Downloading retrying-1.3.4-py3-none-any.whl (11 kB)\r\n",
      "Requirement already satisfied: six in /Library/Frameworks/Python.framework/Versions/3.11/lib/python3.11/site-packages (from chart_studio) (1.16.0)\r\n",
      "Requirement already satisfied: tenacity>=6.2.0 in /Library/Frameworks/Python.framework/Versions/3.11/lib/python3.11/site-packages (from plotly->chart_studio) (8.2.3)\r\n",
      "Requirement already satisfied: packaging in /Library/Frameworks/Python.framework/Versions/3.11/lib/python3.11/site-packages (from plotly->chart_studio) (23.0)\r\n",
      "Requirement already satisfied: charset-normalizer<4,>=2 in /Library/Frameworks/Python.framework/Versions/3.11/lib/python3.11/site-packages (from requests->chart_studio) (3.3.2)\r\n",
      "Requirement already satisfied: idna<4,>=2.5 in /Library/Frameworks/Python.framework/Versions/3.11/lib/python3.11/site-packages (from requests->chart_studio) (3.4)\r\n",
      "Requirement already satisfied: urllib3<3,>=1.21.1 in /Library/Frameworks/Python.framework/Versions/3.11/lib/python3.11/site-packages (from requests->chart_studio) (2.2.1)\r\n",
      "Requirement already satisfied: certifi>=2017.4.17 in /Library/Frameworks/Python.framework/Versions/3.11/lib/python3.11/site-packages (from requests->chart_studio) (2024.2.2)\r\n",
      "Installing collected packages: retrying, chart_studio\r\n",
      "Successfully installed chart_studio-1.1.0 retrying-1.3.4\r\n",
      "\r\n",
      "\u001B[1m[\u001B[0m\u001B[34;49mnotice\u001B[0m\u001B[1;39;49m]\u001B[0m\u001B[39;49m A new release of pip available: \u001B[0m\u001B[31;49m22.3.1\u001B[0m\u001B[39;49m -> \u001B[0m\u001B[32;49m24.0\u001B[0m\r\n",
      "\u001B[1m[\u001B[0m\u001B[34;49mnotice\u001B[0m\u001B[1;39;49m]\u001B[0m\u001B[39;49m To update, run: \u001B[0m\u001B[32;49mpip3 install --upgrade pip\u001B[0m\r\n",
      "Collecting cufflinks\r\n",
      "  Downloading cufflinks-0.17.3.tar.gz (81 kB)\r\n",
      "\u001B[2K     \u001B[90m━━━━━━━━━━━━━━━━━━━━━━━━━━━━━━━━━━━━━━━━\u001B[0m \u001B[32m81.7/81.7 kB\u001B[0m \u001B[31m1.0 MB/s\u001B[0m eta \u001B[36m0:00:00\u001B[0ma \u001B[36m0:00:01\u001B[0m\r\n",
      "\u001B[?25h  Preparing metadata (setup.py) ... \u001B[?25ldone\r\n",
      "\u001B[?25hRequirement already satisfied: numpy>=1.9.2 in /Library/Frameworks/Python.framework/Versions/3.11/lib/python3.11/site-packages (from cufflinks) (1.24.4)\r\n",
      "Requirement already satisfied: pandas>=0.19.2 in /Library/Frameworks/Python.framework/Versions/3.11/lib/python3.11/site-packages (from cufflinks) (2.1.1)\r\n",
      "Requirement already satisfied: plotly>=4.1.1 in /Library/Frameworks/Python.framework/Versions/3.11/lib/python3.11/site-packages (from cufflinks) (5.20.0)\r\n",
      "Requirement already satisfied: six>=1.9.0 in /Library/Frameworks/Python.framework/Versions/3.11/lib/python3.11/site-packages (from cufflinks) (1.16.0)\r\n",
      "Collecting colorlover>=0.2.1\r\n",
      "  Downloading colorlover-0.3.0-py3-none-any.whl (8.9 kB)\r\n",
      "Requirement already satisfied: setuptools>=34.4.1 in /Library/Frameworks/Python.framework/Versions/3.11/lib/python3.11/site-packages (from cufflinks) (65.5.0)\r\n",
      "Requirement already satisfied: ipython>=5.3.0 in /Library/Frameworks/Python.framework/Versions/3.11/lib/python3.11/site-packages (from cufflinks) (8.11.0)\r\n",
      "Requirement already satisfied: ipywidgets>=7.0.0 in /Library/Frameworks/Python.framework/Versions/3.11/lib/python3.11/site-packages (from cufflinks) (8.0.5)\r\n",
      "Requirement already satisfied: backcall in /Library/Frameworks/Python.framework/Versions/3.11/lib/python3.11/site-packages (from ipython>=5.3.0->cufflinks) (0.2.0)\r\n",
      "Requirement already satisfied: decorator in /Library/Frameworks/Python.framework/Versions/3.11/lib/python3.11/site-packages (from ipython>=5.3.0->cufflinks) (5.1.1)\r\n",
      "Requirement already satisfied: jedi>=0.16 in /Library/Frameworks/Python.framework/Versions/3.11/lib/python3.11/site-packages (from ipython>=5.3.0->cufflinks) (0.18.2)\r\n",
      "Requirement already satisfied: matplotlib-inline in /Library/Frameworks/Python.framework/Versions/3.11/lib/python3.11/site-packages (from ipython>=5.3.0->cufflinks) (0.1.6)\r\n",
      "Requirement already satisfied: pickleshare in /Library/Frameworks/Python.framework/Versions/3.11/lib/python3.11/site-packages (from ipython>=5.3.0->cufflinks) (0.7.5)\r\n",
      "Requirement already satisfied: prompt-toolkit!=3.0.37,<3.1.0,>=3.0.30 in /Library/Frameworks/Python.framework/Versions/3.11/lib/python3.11/site-packages (from ipython>=5.3.0->cufflinks) (3.0.38)\r\n",
      "Requirement already satisfied: pygments>=2.4.0 in /Library/Frameworks/Python.framework/Versions/3.11/lib/python3.11/site-packages (from ipython>=5.3.0->cufflinks) (2.14.0)\r\n",
      "Requirement already satisfied: stack-data in /Library/Frameworks/Python.framework/Versions/3.11/lib/python3.11/site-packages (from ipython>=5.3.0->cufflinks) (0.6.2)\r\n",
      "Requirement already satisfied: traitlets>=5 in /Library/Frameworks/Python.framework/Versions/3.11/lib/python3.11/site-packages (from ipython>=5.3.0->cufflinks) (5.9.0)\r\n",
      "Requirement already satisfied: pexpect>4.3 in /Library/Frameworks/Python.framework/Versions/3.11/lib/python3.11/site-packages (from ipython>=5.3.0->cufflinks) (4.8.0)\r\n",
      "Requirement already satisfied: appnope in /Library/Frameworks/Python.framework/Versions/3.11/lib/python3.11/site-packages (from ipython>=5.3.0->cufflinks) (0.1.3)\r\n",
      "Requirement already satisfied: widgetsnbextension~=4.0 in /Library/Frameworks/Python.framework/Versions/3.11/lib/python3.11/site-packages (from ipywidgets>=7.0.0->cufflinks) (4.0.6)\r\n",
      "Requirement already satisfied: jupyterlab-widgets~=3.0 in /Library/Frameworks/Python.framework/Versions/3.11/lib/python3.11/site-packages (from ipywidgets>=7.0.0->cufflinks) (3.0.6)\r\n",
      "Requirement already satisfied: python-dateutil>=2.8.2 in /Library/Frameworks/Python.framework/Versions/3.11/lib/python3.11/site-packages (from pandas>=0.19.2->cufflinks) (2.8.2)\r\n",
      "Requirement already satisfied: pytz>=2020.1 in /Library/Frameworks/Python.framework/Versions/3.11/lib/python3.11/site-packages (from pandas>=0.19.2->cufflinks) (2024.1)\r\n",
      "Requirement already satisfied: tzdata>=2022.1 in /Library/Frameworks/Python.framework/Versions/3.11/lib/python3.11/site-packages (from pandas>=0.19.2->cufflinks) (2024.1)\r\n",
      "Requirement already satisfied: tenacity>=6.2.0 in /Library/Frameworks/Python.framework/Versions/3.11/lib/python3.11/site-packages (from plotly>=4.1.1->cufflinks) (8.2.3)\r\n",
      "Requirement already satisfied: packaging in /Library/Frameworks/Python.framework/Versions/3.11/lib/python3.11/site-packages (from plotly>=4.1.1->cufflinks) (23.0)\r\n",
      "Requirement already satisfied: parso<0.9.0,>=0.8.0 in /Library/Frameworks/Python.framework/Versions/3.11/lib/python3.11/site-packages (from jedi>=0.16->ipython>=5.3.0->cufflinks) (0.8.3)\r\n",
      "Requirement already satisfied: ptyprocess>=0.5 in /Library/Frameworks/Python.framework/Versions/3.11/lib/python3.11/site-packages (from pexpect>4.3->ipython>=5.3.0->cufflinks) (0.7.0)\r\n",
      "Requirement already satisfied: wcwidth in /Library/Frameworks/Python.framework/Versions/3.11/lib/python3.11/site-packages (from prompt-toolkit!=3.0.37,<3.1.0,>=3.0.30->ipython>=5.3.0->cufflinks) (0.2.6)\r\n",
      "Requirement already satisfied: executing>=1.2.0 in /Library/Frameworks/Python.framework/Versions/3.11/lib/python3.11/site-packages (from stack-data->ipython>=5.3.0->cufflinks) (1.2.0)\r\n",
      "Requirement already satisfied: asttokens>=2.1.0 in /Library/Frameworks/Python.framework/Versions/3.11/lib/python3.11/site-packages (from stack-data->ipython>=5.3.0->cufflinks) (2.2.1)\r\n",
      "Requirement already satisfied: pure-eval in /Library/Frameworks/Python.framework/Versions/3.11/lib/python3.11/site-packages (from stack-data->ipython>=5.3.0->cufflinks) (0.2.2)\r\n",
      "Installing collected packages: colorlover, cufflinks\r\n",
      "\u001B[33m  DEPRECATION: cufflinks is being installed using the legacy 'setup.py install' method, because it does not have a 'pyproject.toml' and the 'wheel' package is not installed. pip 23.1 will enforce this behaviour change. A possible replacement is to enable the '--use-pep517' option. Discussion can be found at https://github.com/pypa/pip/issues/8559\u001B[0m\u001B[33m\r\n",
      "\u001B[0m  Running setup.py install for cufflinks ... \u001B[?25ldone\r\n",
      "\u001B[?25hSuccessfully installed colorlover-0.3.0 cufflinks-0.17.3\r\n",
      "\r\n",
      "\u001B[1m[\u001B[0m\u001B[34;49mnotice\u001B[0m\u001B[1;39;49m]\u001B[0m\u001B[39;49m A new release of pip available: \u001B[0m\u001B[31;49m22.3.1\u001B[0m\u001B[39;49m -> \u001B[0m\u001B[32;49m24.0\u001B[0m\r\n",
      "\u001B[1m[\u001B[0m\u001B[34;49mnotice\u001B[0m\u001B[1;39;49m]\u001B[0m\u001B[39;49m To update, run: \u001B[0m\u001B[32;49mpip3 install --upgrade pip\u001B[0m\r\n"
     ]
    }
   ],
   "source": [
    "# ! pip3 install plotly\n",
    "# ! pip3 install pandas\n",
    "# ! pip3 install chart_studio\n",
    "# ! pip3 install seaborn\n",
    "# ! pip3 install cufflinks"
   ],
   "metadata": {
    "collapsed": false,
    "ExecuteTime": {
     "end_time": "2024-04-03T09:53:52.417277Z",
     "start_time": "2024-04-03T09:53:47.118073Z"
    }
   },
   "id": "ebfee3d3591500c0",
   "execution_count": 4
  },
  {
   "cell_type": "code",
   "outputs": [
    {
     "data": {
      "text/html": "        <script type=\"text/javascript\">\n        window.PlotlyConfig = {MathJaxConfig: 'local'};\n        if (window.MathJax && window.MathJax.Hub && window.MathJax.Hub.Config) {window.MathJax.Hub.Config({SVG: {font: \"STIX-Web\"}});}\n        if (typeof require !== 'undefined') {\n        require.undef(\"plotly\");\n        requirejs.config({\n            paths: {\n                'plotly': ['https://cdn.plot.ly/plotly-2.30.0.min']\n            }\n        });\n        require(['plotly'], function(Plotly) {\n            window._Plotly = Plotly;\n        });\n        }\n        </script>\n        "
     },
     "metadata": {},
     "output_type": "display_data"
    },
    {
     "data": {
      "text/html": "        <script type=\"text/javascript\">\n        window.PlotlyConfig = {MathJaxConfig: 'local'};\n        if (window.MathJax && window.MathJax.Hub && window.MathJax.Hub.Config) {window.MathJax.Hub.Config({SVG: {font: \"STIX-Web\"}});}\n        if (typeof require !== 'undefined') {\n        require.undef(\"plotly\");\n        requirejs.config({\n            paths: {\n                'plotly': ['https://cdn.plot.ly/plotly-2.30.0.min']\n            }\n        });\n        require(['plotly'], function(Plotly) {\n            window._Plotly = Plotly;\n        });\n        }\n        </script>\n        "
     },
     "metadata": {},
     "output_type": "display_data"
    }
   ],
   "source": [
    "import numpy as np\n",
    "import pandas as pd\n",
    "import matplotlib.pyplot as plt\n",
    "import warnings\n",
    "from datetime import datetime\n",
    "import seaborn as sns\n",
    "import chart_studio.plotly as py\n",
    "import cufflinks as cf\n",
    "import plotly.express as px\n",
    "%matplotlib inline\n",
    "\n",
    "# Make Plotly work in your Jupyter Notebook\n",
    "from plotly.offline import download_plotlyjs, init_notebook_mode, plot, iplot\n",
    "init_notebook_mode(connected=True)\n",
    "# Use Plotly locally\n",
    "cf.go_offline()\n",
    "\n",
    "from sklearn.decomposition import PCA\n",
    "from sklearn.cluster import KMeans\n",
    "warnings.filterwarnings('ignore')\n",
    "import plotly.graph_objects as go"
   ],
   "metadata": {
    "collapsed": false,
    "ExecuteTime": {
     "end_time": "2024-04-03T11:11:51.928649Z",
     "start_time": "2024-04-03T11:11:49.866425Z"
    }
   },
   "id": "40090967e622da72",
   "execution_count": 2
  },
  {
   "cell_type": "code",
   "outputs": [
    {
     "data": {
      "text/plain": "   year   make                model        trim   body transmission  \\\n0  2015    Kia              Sorento          LX    SUV    automatic   \n1  2015    Kia              Sorento          LX    SUV    automatic   \n2  2014    BMW             3 Series  328i SULEV  Sedan    automatic   \n3  2015  Volvo                  S60          T5  Sedan    automatic   \n4  2014    BMW  6 Series Gran Coupe        650i  Sedan    automatic   \n\n                 vin state  condition  odometer  color interior  \\\n0  5xyktca69fg566472    ca        5.0   16639.0  white    black   \n1  5xyktca69fg561319    ca        5.0    9393.0  white    beige   \n2  wba3c1c51ek116351    ca       45.0    1331.0   gray    black   \n3  yv1612tb4f1310987    ca       41.0   14282.0  white    black   \n4  wba6b2c57ed129731    ca       43.0    2641.0   gray    black   \n\n                                   seller      mmr  sellingprice  \\\n0                 kia motors america  inc  20500.0       21500.0   \n1                 kia motors america  inc  20800.0       21500.0   \n2  financial services remarketing (lease)  31900.0       30000.0   \n3                 volvo na rep/world omni  27500.0       27750.0   \n4  financial services remarketing (lease)  66000.0       67000.0   \n\n                                  saledate  \n0  Tue Dec 16 2014 12:30:00 GMT-0800 (PST)  \n1  Tue Dec 16 2014 12:30:00 GMT-0800 (PST)  \n2  Thu Jan 15 2015 04:30:00 GMT-0800 (PST)  \n3  Thu Jan 29 2015 04:30:00 GMT-0800 (PST)  \n4  Thu Dec 18 2014 12:30:00 GMT-0800 (PST)  ",
      "text/html": "<div>\n<style scoped>\n    .dataframe tbody tr th:only-of-type {\n        vertical-align: middle;\n    }\n\n    .dataframe tbody tr th {\n        vertical-align: top;\n    }\n\n    .dataframe thead th {\n        text-align: right;\n    }\n</style>\n<table border=\"1\" class=\"dataframe\">\n  <thead>\n    <tr style=\"text-align: right;\">\n      <th></th>\n      <th>year</th>\n      <th>make</th>\n      <th>model</th>\n      <th>trim</th>\n      <th>body</th>\n      <th>transmission</th>\n      <th>vin</th>\n      <th>state</th>\n      <th>condition</th>\n      <th>odometer</th>\n      <th>color</th>\n      <th>interior</th>\n      <th>seller</th>\n      <th>mmr</th>\n      <th>sellingprice</th>\n      <th>saledate</th>\n    </tr>\n  </thead>\n  <tbody>\n    <tr>\n      <th>0</th>\n      <td>2015</td>\n      <td>Kia</td>\n      <td>Sorento</td>\n      <td>LX</td>\n      <td>SUV</td>\n      <td>automatic</td>\n      <td>5xyktca69fg566472</td>\n      <td>ca</td>\n      <td>5.0</td>\n      <td>16639.0</td>\n      <td>white</td>\n      <td>black</td>\n      <td>kia motors america  inc</td>\n      <td>20500.0</td>\n      <td>21500.0</td>\n      <td>Tue Dec 16 2014 12:30:00 GMT-0800 (PST)</td>\n    </tr>\n    <tr>\n      <th>1</th>\n      <td>2015</td>\n      <td>Kia</td>\n      <td>Sorento</td>\n      <td>LX</td>\n      <td>SUV</td>\n      <td>automatic</td>\n      <td>5xyktca69fg561319</td>\n      <td>ca</td>\n      <td>5.0</td>\n      <td>9393.0</td>\n      <td>white</td>\n      <td>beige</td>\n      <td>kia motors america  inc</td>\n      <td>20800.0</td>\n      <td>21500.0</td>\n      <td>Tue Dec 16 2014 12:30:00 GMT-0800 (PST)</td>\n    </tr>\n    <tr>\n      <th>2</th>\n      <td>2014</td>\n      <td>BMW</td>\n      <td>3 Series</td>\n      <td>328i SULEV</td>\n      <td>Sedan</td>\n      <td>automatic</td>\n      <td>wba3c1c51ek116351</td>\n      <td>ca</td>\n      <td>45.0</td>\n      <td>1331.0</td>\n      <td>gray</td>\n      <td>black</td>\n      <td>financial services remarketing (lease)</td>\n      <td>31900.0</td>\n      <td>30000.0</td>\n      <td>Thu Jan 15 2015 04:30:00 GMT-0800 (PST)</td>\n    </tr>\n    <tr>\n      <th>3</th>\n      <td>2015</td>\n      <td>Volvo</td>\n      <td>S60</td>\n      <td>T5</td>\n      <td>Sedan</td>\n      <td>automatic</td>\n      <td>yv1612tb4f1310987</td>\n      <td>ca</td>\n      <td>41.0</td>\n      <td>14282.0</td>\n      <td>white</td>\n      <td>black</td>\n      <td>volvo na rep/world omni</td>\n      <td>27500.0</td>\n      <td>27750.0</td>\n      <td>Thu Jan 29 2015 04:30:00 GMT-0800 (PST)</td>\n    </tr>\n    <tr>\n      <th>4</th>\n      <td>2014</td>\n      <td>BMW</td>\n      <td>6 Series Gran Coupe</td>\n      <td>650i</td>\n      <td>Sedan</td>\n      <td>automatic</td>\n      <td>wba6b2c57ed129731</td>\n      <td>ca</td>\n      <td>43.0</td>\n      <td>2641.0</td>\n      <td>gray</td>\n      <td>black</td>\n      <td>financial services remarketing (lease)</td>\n      <td>66000.0</td>\n      <td>67000.0</td>\n      <td>Thu Dec 18 2014 12:30:00 GMT-0800 (PST)</td>\n    </tr>\n  </tbody>\n</table>\n</div>"
     },
     "execution_count": 3,
     "metadata": {},
     "output_type": "execute_result"
    }
   ],
   "source": [
    "df = pd.read_csv('https://raw.githubusercontent.com/anikdip/data_visualisation/main/car_prices.csv')\n",
    "df.head()"
   ],
   "metadata": {
    "collapsed": false,
    "ExecuteTime": {
     "end_time": "2024-04-03T11:12:18.646091Z",
     "start_time": "2024-04-03T11:11:55.115696Z"
    }
   },
   "id": "1d70cb86f4e1a439",
   "execution_count": 3
  },
  {
   "cell_type": "code",
   "outputs": [
    {
     "name": "stdout",
     "output_type": "stream",
     "text": [
      "<class 'pandas.core.frame.DataFrame'>\n",
      "RangeIndex: 558837 entries, 0 to 558836\n",
      "Data columns (total 16 columns):\n",
      " #   Column        Non-Null Count   Dtype  \n",
      "---  ------        --------------   -----  \n",
      " 0   year          558837 non-null  int64  \n",
      " 1   make          548536 non-null  object \n",
      " 2   model         548438 non-null  object \n",
      " 3   trim          548186 non-null  object \n",
      " 4   body          545642 non-null  object \n",
      " 5   transmission  493485 non-null  object \n",
      " 6   vin           558833 non-null  object \n",
      " 7   state         558837 non-null  object \n",
      " 8   condition     547017 non-null  float64\n",
      " 9   odometer      558743 non-null  float64\n",
      " 10  color         558088 non-null  object \n",
      " 11  interior      558088 non-null  object \n",
      " 12  seller        558837 non-null  object \n",
      " 13  mmr           558799 non-null  float64\n",
      " 14  sellingprice  558825 non-null  float64\n",
      " 15  saledate      558825 non-null  object \n",
      "dtypes: float64(4), int64(1), object(11)\n",
      "memory usage: 68.2+ MB\n"
     ]
    }
   ],
   "source": [
    "df.info()"
   ],
   "metadata": {
    "collapsed": false,
    "ExecuteTime": {
     "end_time": "2024-04-03T10:10:28.477364Z",
     "start_time": "2024-04-03T10:10:27.430005Z"
    }
   },
   "id": "7fa33b4a087f9d0c",
   "execution_count": 9
  },
  {
   "cell_type": "code",
   "outputs": [
    {
     "data": {
      "text/plain": "year                34\nmake                96\nmodel              973\ntrim              1963\nbody                87\ntransmission         4\nvin             550297\nstate               64\ncondition           41\nodometer        172278\ncolor               46\ninterior            17\nseller           14263\nmmr               1101\nsellingprice      1887\nsaledate          3766\ndtype: int64"
     },
     "execution_count": 11,
     "metadata": {},
     "output_type": "execute_result"
    }
   ],
   "source": [
    "df.nunique()"
   ],
   "metadata": {
    "collapsed": false,
    "ExecuteTime": {
     "end_time": "2024-04-03T10:11:25.523112Z",
     "start_time": "2024-04-03T10:11:24.923192Z"
    }
   },
   "id": "afbdfad06d1797c5",
   "execution_count": 11
  },
  {
   "cell_type": "code",
   "outputs": [
    {
     "data": {
      "text/plain": "model\nAltima           19349\nF-150            14479\nFusion           12946\nCamry            12545\nEscape           11861\n                 ...  \nGL-Class          1061\nGrand Prix        1048\nLancer            1034\nDart              1028\nCaptiva Sport     1016\nName: count, Length: 133, dtype: int64"
     },
     "execution_count": 17,
     "metadata": {},
     "output_type": "execute_result"
    }
   ],
   "source": [
    "MODEL_LABEL = df['model'].values\n",
    "MODEL_counts = df['model'].value_counts()\n",
    "MODEL_count = MODEL_counts[MODEL_counts > 1000]\n",
    "MODEL_count"
   ],
   "metadata": {
    "collapsed": false,
    "ExecuteTime": {
     "end_time": "2024-04-03T10:45:49.323624Z",
     "start_time": "2024-04-03T10:45:49.131554Z"
    }
   },
   "id": "e0b9d47aa0699509",
   "execution_count": 17
  },
  {
   "cell_type": "code",
   "outputs": [
    {
     "ename": "NameError",
     "evalue": "name 'go' is not defined",
     "output_type": "error",
     "traceback": [
      "\u001B[0;31m---------------------------------------------------------------------------\u001B[0m",
      "\u001B[0;31mNameError\u001B[0m                                 Traceback (most recent call last)",
      "Cell \u001B[0;32mIn[1], line 2\u001B[0m\n\u001B[1;32m      1\u001B[0m \u001B[38;5;66;03m# Create a pie chart figure\u001B[39;00m\n\u001B[0;32m----> 2\u001B[0m fig \u001B[38;5;241m=\u001B[39m \u001B[43mgo\u001B[49m\u001B[38;5;241m.\u001B[39mFigure(data\u001B[38;5;241m=\u001B[39m[go\u001B[38;5;241m.\u001B[39mPie(labels\u001B[38;5;241m=\u001B[39mMODEL_LABEL, values\u001B[38;5;241m=\u001B[39mMODEL_count)])\n\u001B[1;32m      3\u001B[0m \u001B[38;5;66;03m# Set title\u001B[39;00m\n\u001B[1;32m      4\u001B[0m fig\u001B[38;5;241m.\u001B[39mupdate_layout(title_text\u001B[38;5;241m=\u001B[39m\u001B[38;5;124m'\u001B[39m\u001B[38;5;124mModel wise sales percentage\u001B[39m\u001B[38;5;124m'\u001B[39m)\n",
      "\u001B[0;31mNameError\u001B[0m: name 'go' is not defined"
     ]
    }
   ],
   "source": [
    "# Create a pie chart figure\n",
    "fig = go.Figure(data=[go.Pie(labels=MODEL_LABEL, values=MODEL_count)])\n",
    "# Set title\n",
    "fig.update_layout(title_text='Model wise sales percentage')\n",
    "\n",
    "# Show the plot\n",
    "fig.show()"
   ],
   "metadata": {
    "collapsed": false,
    "ExecuteTime": {
     "end_time": "2024-04-03T11:11:39.781342Z",
     "start_time": "2024-04-03T11:11:39.611530Z"
    }
   },
   "id": "a45def0901f62d9d",
   "execution_count": 1
  },
  {
   "cell_type": "code",
   "outputs": [],
   "source": [],
   "metadata": {
    "collapsed": false,
    "ExecuteTime": {
     "end_time": "2024-04-03T10:46:00.980807Z",
     "start_time": "2024-04-03T10:46:00.954447Z"
    }
   },
   "id": "f65210a003195622",
   "execution_count": 18
  },
  {
   "cell_type": "code",
   "outputs": [],
   "source": [],
   "metadata": {
    "collapsed": false
   },
   "id": "ce9cd2ae0f80f2cb"
  }
 ],
 "metadata": {
  "kernelspec": {
   "display_name": "Python 3",
   "language": "python",
   "name": "python3"
  },
  "language_info": {
   "codemirror_mode": {
    "name": "ipython",
    "version": 2
   },
   "file_extension": ".py",
   "mimetype": "text/x-python",
   "name": "python",
   "nbconvert_exporter": "python",
   "pygments_lexer": "ipython2",
   "version": "2.7.6"
  }
 },
 "nbformat": 4,
 "nbformat_minor": 5
}
